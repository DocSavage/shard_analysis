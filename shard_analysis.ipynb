{
 "cells": [
  {
   "cell_type": "code",
   "execution_count": 4,
   "id": "bc836083-1551-4544-87eb-3813e129e813",
   "metadata": {},
   "outputs": [],
   "source": [
    "import os \n",
    "fname = os.path.join(os.getcwd(), \"Downloads\", \"128_128_128_0000.shard\")"
   ]
  },
  {
   "cell_type": "code",
   "execution_count": 5,
   "id": "ded6e40a-3702-48ab-a856-a6228e7404ee",
   "metadata": {},
   "outputs": [],
   "source": [
    "with open(fname, mode='rb') as f:\n",
    "    data = f.read()"
   ]
  },
  {
   "cell_type": "code",
   "execution_count": 6,
   "id": "0e146a74-1a26-48a0-a930-31c13ba81fbf",
   "metadata": {},
   "outputs": [
    {
     "data": {
      "text/plain": [
       "(0, 3819105, 3819568, 3820592)"
      ]
     },
     "execution_count": 6,
     "metadata": {},
     "output_type": "execute_result"
    }
   ],
   "source": [
    "minishard_bits = 6\n",
    "entries = 2**minishard_bits\n",
    "shard_index_end = entries * 16\n",
    "entry = 0\n",
    "start_offset, end_offset = 0, 0\n",
    "for i in range(entries):\n",
    "    start_offset, end_offset = int.from_bytes(data[i*8:i*8+8], byteorder='little',signed=False), int.from_bytes(data[i*8+8:i*8+16], byteorder='little', signed=False)\n",
    "    if start_offset != end_offset:\n",
    "        entry = i\n",
    "        break\n",
    "entry, start_offset, end_offset, len(data)"
   ]
  },
  {
   "cell_type": "code",
   "execution_count": 7,
   "id": "956c34e0-b752-4179-9cc5-8c0202a746c4",
   "metadata": {},
   "outputs": [
    {
     "data": {
      "text/plain": [
       "116"
      ]
     },
     "execution_count": 7,
     "metadata": {},
     "output_type": "execute_result"
    }
   ],
   "source": [
    "import gzip\n",
    "minishard_index_gzipped = data[shard_index_end+start_offset:shard_index_end+end_offset]\n",
    "len(minishard_index_gzipped)\n",
    "minishard_data = gzip.decompress(minishard_index_gzipped)\n",
    "n = len(minishard_data)//24\n",
    "n"
   ]
  },
  {
   "cell_type": "code",
   "execution_count": 8,
   "id": "7c4a793c-4ebb-46d5-a6a3-407af1d44346",
   "metadata": {},
   "outputs": [
    {
     "data": {
      "text/plain": [
       "{0: {'id': 0, 'offset': 0, 'size': 8291},\n",
       " 1: {'id': 1, 'offset': 0, 'size': 11355},\n",
       " 2: {'id': 1, 'offset': 0, 'size': 31858},\n",
       " 3: {'id': 1, 'offset': 0, 'size': 43187},\n",
       " 4: {'id': 1, 'offset': 0, 'size': 29534},\n",
       " 5: {'id': 1, 'offset': 0, 'size': 28669},\n",
       " 6: {'id': 1, 'offset': 0, 'size': 53355},\n",
       " 7: {'id': 1, 'offset': 0, 'size': 44598},\n",
       " 8: {'id': 1, 'offset': 0, 'size': 12004},\n",
       " 9: {'id': 1, 'offset': 0, 'size': 11852},\n",
       " 10: {'id': 1, 'offset': 0, 'size': 41493},\n",
       " 11: {'id': 1, 'offset': 0, 'size': 47688},\n",
       " 12: {'id': 1, 'offset': 0, 'size': 29743},\n",
       " 13: {'id': 1, 'offset': 0, 'size': 29863},\n",
       " 14: {'id': 1, 'offset': 0, 'size': 44818},\n",
       " 15: {'id': 1, 'offset': 0, 'size': 51235},\n",
       " 16: {'id': 1, 'offset': 0, 'size': 32308},\n",
       " 17: {'id': 1, 'offset': 0, 'size': 40195},\n",
       " 18: {'id': 1, 'offset': 0, 'size': 28596},\n",
       " 19: {'id': 1, 'offset': 0, 'size': 32772},\n",
       " 20: {'id': 1, 'offset': 0, 'size': 50930},\n",
       " 21: {'id': 1, 'offset': 0, 'size': 42101},\n",
       " 22: {'id': 1, 'offset': 0, 'size': 44652},\n",
       " 23: {'id': 1, 'offset': 0, 'size': 40032},\n",
       " 24: {'id': 1, 'offset': 0, 'size': 36197},\n",
       " 25: {'id': 1, 'offset': 0, 'size': 44743},\n",
       " 26: {'id': 1, 'offset': 0, 'size': 22101},\n",
       " 27: {'id': 1, 'offset': 0, 'size': 32113},\n",
       " 28: {'id': 1, 'offset': 0, 'size': 41307},\n",
       " 29: {'id': 1, 'offset': 0, 'size': 50850},\n",
       " 30: {'id': 1, 'offset': 0, 'size': 36032},\n",
       " 31: {'id': 1, 'offset': 0, 'size': 31389},\n",
       " 32: {'id': 1, 'offset': 0, 'size': 33075},\n",
       " 33: {'id': 1, 'offset': 0, 'size': 40937},\n",
       " 34: {'id': 1, 'offset': 0, 'size': 47569},\n",
       " 35: {'id': 1, 'offset': 0, 'size': 53712},\n",
       " 36: {'id': 1, 'offset': 0, 'size': 23409},\n",
       " 37: {'id': 1, 'offset': 0, 'size': 53701},\n",
       " 38: {'id': 1, 'offset': 0, 'size': 26629},\n",
       " 39: {'id': 1, 'offset': 0, 'size': 53905},\n",
       " 40: {'id': 1, 'offset': 0, 'size': 39840},\n",
       " 41: {'id': 1, 'offset': 0, 'size': 41214},\n",
       " 42: {'id': 1, 'offset': 0, 'size': 52109},\n",
       " 43: {'id': 1, 'offset': 0, 'size': 55252},\n",
       " 44: {'id': 1, 'offset': 0, 'size': 53159},\n",
       " 45: {'id': 1, 'offset': 0, 'size': 54629},\n",
       " 46: {'id': 1, 'offset': 0, 'size': 55235},\n",
       " 47: {'id': 1, 'offset': 0, 'size': 59653},\n",
       " 48: {'id': 1, 'offset': 0, 'size': 48884},\n",
       " 49: {'id': 1, 'offset': 0, 'size': 53321},\n",
       " 50: {'id': 1, 'offset': 0, 'size': 37421},\n",
       " 51: {'id': 1, 'offset': 0, 'size': 42831},\n",
       " 52: {'id': 1, 'offset': 0, 'size': 25987},\n",
       " 53: {'id': 1, 'offset': 0, 'size': 53455},\n",
       " 54: {'id': 1, 'offset': 0, 'size': 13179},\n",
       " 55: {'id': 1, 'offset': 0, 'size': 24496},\n",
       " 56: {'id': 1, 'offset': 0, 'size': 50806},\n",
       " 57: {'id': 1, 'offset': 0, 'size': 54552},\n",
       " 58: {'id': 1, 'offset': 0, 'size': 42805},\n",
       " 59: {'id': 1, 'offset': 0, 'size': 42290},\n",
       " 60: {'id': 1, 'offset': 0, 'size': 52401},\n",
       " 61: {'id': 1, 'offset': 0, 'size': 57825},\n",
       " 62: {'id': 1, 'offset': 0, 'size': 24466},\n",
       " 63: {'id': 1, 'offset': 0, 'size': 24025},\n",
       " 64: {'id': 5, 'offset': 0, 'size': 31346},\n",
       " 65: {'id': 1, 'offset': 0, 'size': 36381},\n",
       " 66: {'id': 1, 'offset': 0, 'size': 53157},\n",
       " 67: {'id': 1, 'offset': 0, 'size': 40568},\n",
       " 68: {'id': 11, 'offset': 0, 'size': 3709},\n",
       " 69: {'id': 2, 'offset': 0, 'size': 50963},\n",
       " 70: {'id': 1, 'offset': 0, 'size': 43023},\n",
       " 71: {'id': 1, 'offset': 0, 'size': 25840},\n",
       " 72: {'id': 1, 'offset': 0, 'size': 46154},\n",
       " 73: {'id': 9, 'offset': 0, 'size': 43184},\n",
       " 74: {'id': 1, 'offset': 0, 'size': 20966},\n",
       " 75: {'id': 1, 'offset': 0, 'size': 58884},\n",
       " 76: {'id': 1, 'offset': 0, 'size': 25270},\n",
       " 77: {'id': 1, 'offset': 0, 'size': 11909},\n",
       " 78: {'id': 2, 'offset': 0, 'size': 12605},\n",
       " 79: {'id': 10, 'offset': 0, 'size': 57222},\n",
       " 80: {'id': 1, 'offset': 0, 'size': 25808},\n",
       " 81: {'id': 1, 'offset': 0, 'size': 41801},\n",
       " 82: {'id': 1, 'offset': 0, 'size': 26522},\n",
       " 83: {'id': 1, 'offset': 0, 'size': 12418},\n",
       " 84: {'id': 2, 'offset': 0, 'size': 6911},\n",
       " 85: {'id': 10, 'offset': 0, 'size': 10956},\n",
       " 86: {'id': 1, 'offset': 0, 'size': 13868},\n",
       " 87: {'id': 7, 'offset': 0, 'size': 8786},\n",
       " 88: {'id': 1, 'offset': 0, 'size': 9574},\n",
       " 89: {'id': 23, 'offset': 0, 'size': 3571},\n",
       " 90: {'id': 1, 'offset': 0, 'size': 3794},\n",
       " 91: {'id': 7, 'offset': 0, 'size': 3634},\n",
       " 92: {'id': 1, 'offset': 0, 'size': 3102},\n",
       " 93: {'id': 23, 'offset': 0, 'size': 2312},\n",
       " 94: {'id': 32, 'offset': 0, 'size': 3268},\n",
       " 95: {'id': 1, 'offset': 0, 'size': 2713},\n",
       " 96: {'id': 31, 'offset': 0, 'size': 23638},\n",
       " 97: {'id': 1, 'offset': 0, 'size': 43715},\n",
       " 98: {'id': 1, 'offset': 0, 'size': 24493},\n",
       " 99: {'id': 1, 'offset': 0, 'size': 38522},\n",
       " 100: {'id': 5, 'offset': 0, 'size': 43459},\n",
       " 101: {'id': 1, 'offset': 0, 'size': 26613},\n",
       " 102: {'id': 1, 'offset': 0, 'size': 40696},\n",
       " 103: {'id': 1, 'offset': 0, 'size': 25357},\n",
       " 104: {'id': 5, 'offset': 0, 'size': 24362},\n",
       " 105: {'id': 1, 'offset': 0, 'size': 38392},\n",
       " 106: {'id': 1, 'offset': 0, 'size': 23354},\n",
       " 107: {'id': 1, 'offset': 0, 'size': 39717},\n",
       " 108: {'id': 5, 'offset': 0, 'size': 40292},\n",
       " 109: {'id': 1, 'offset': 0, 'size': 24142},\n",
       " 110: {'id': 1, 'offset': 0, 'size': 39614},\n",
       " 111: {'id': 1, 'offset': 0, 'size': 24725},\n",
       " 112: {'id': 101, 'offset': 0, 'size': 9810},\n",
       " 113: {'id': 1, 'offset': 0, 'size': 10082},\n",
       " 114: {'id': 7, 'offset': 0, 'size': 10037},\n",
       " 115: {'id': 1, 'offset': 0, 'size': 9233}}"
      ]
     },
     "execution_count": 8,
     "metadata": {},
     "output_type": "execute_result"
    }
   ],
   "source": [
    "d = data[shard_index_end:]\n",
    "chunk = {}\n",
    "for i in range(n):\n",
    "    chunk[i] = {\n",
    "        'id': int.from_bytes(minishard_data[i*8:i*8+8], byteorder='little', signed=False),\n",
    "        'offset': int.from_bytes(minishard_data[n*8+i*8:n*8+i*8+8], byteorder='little', signed=False),\n",
    "        'size': int.from_bytes(minishard_data[n*16+i*8:n*16+i*8+8], byteorder='little', signed=False)\n",
    "    }\n",
    "chunk"
   ]
  },
  {
   "cell_type": "code",
   "execution_count": 9,
   "id": "d7c5dfcd-2bb7-4798-8f4c-de761f2556da",
   "metadata": {},
   "outputs": [],
   "source": [
    "def get_jpeg(index: int) -> bytes:\n",
    "    offset = 0\n",
    "    for i in range(index):\n",
    "        offset += chunk[i]['offset'] + chunk[i]['size']\n",
    "    offset += chunk[index]['offset']\n",
    "    return d[offset:offset+chunk[index]['size']]"
   ]
  },
  {
   "cell_type": "code",
   "execution_count": 16,
   "id": "873a3153-cd8f-4fa1-bbfb-cd662f563791",
   "metadata": {},
   "outputs": [
    {
     "data": {
      "image/jpeg": "[encoded data removed]",
      "text/plain": [
       "<IPython.core.display.Image object>"
      ]
     },
     "execution_count": 16,
     "metadata": {},
     "output_type": "execute_result"
    }
   ],
   "source": [
    "jpeg = get_jpeg(112)\n",
    "import IPython\n",
    "IPython.display.Image(jpeg)"
   ]
  },
  {
   "cell_type": "code",
   "execution_count": 17,
   "id": "fb463e1f-9796-42a8-abc6-c598cf809e7f",
   "metadata": {},
   "outputs": [
    {
     "data": {
      "text/plain": [
       "(64, 1394, 1)"
      ]
     },
     "execution_count": 17,
     "metadata": {},
     "output_type": "execute_result"
    }
   ],
   "source": [
    "import simplejpeg\n",
    "img = simplejpeg.decode_jpeg(jpeg, colorspace='GRAY')\n",
    "img.shape"
   ]
  },
  {
   "cell_type": "code",
   "execution_count": null,
   "id": "589bd2bc-6ad8-4a4d-9e2a-bfc48c71fee3",
   "metadata": {},
   "outputs": [],
   "source": []
  }
 ],
 "metadata": {
  "kernelspec": {
   "display_name": "Python 3 (ipykernel)",
   "language": "python",
   "name": "python3"
  },
  "language_info": {
   "codemirror_mode": {
    "name": "ipython",
    "version": 3
   },
   "file_extension": ".py",
   "mimetype": "text/x-python",
   "name": "python",
   "nbconvert_exporter": "python",
   "pygments_lexer": "ipython3",
   "version": "3.10.4"
  }
 },
 "nbformat": 4,
 "nbformat_minor": 5
}
